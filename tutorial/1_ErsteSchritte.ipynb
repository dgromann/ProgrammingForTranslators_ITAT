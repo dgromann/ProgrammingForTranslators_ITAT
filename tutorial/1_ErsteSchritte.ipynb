{
  "nbformat": 4,
  "nbformat_minor": 0,
  "metadata": {
    "colab": {
      "provenance": [],
      "include_colab_link": true
    },
    "kernelspec": {
      "name": "python3",
      "display_name": "Python 3"
    }
  },
  "cells": [
    {
      "cell_type": "markdown",
      "metadata": {
        "id": "view-in-github",
        "colab_type": "text"
      },
      "source": [
        "<a href=\"https://colab.research.google.com/github/dgromann/ProgrammingForTranslators_ITAT/blob/main/tutorial/1_ErsteSchritte.ipynb\" target=\"_parent\"><img src=\"https://colab.research.google.com/assets/colab-badge.svg\" alt=\"Open In Colab\"/></a>"
      ]
    },
    {
      "cell_type": "markdown",
      "metadata": {
        "id": "BcnUc0sL9433"
      },
      "source": [
        "# **Programmieren für Übersetzer:innen - Erste Schritte**\n",
        "\n",
        "Dieses Notebook bietet einige interaktive Programmierübungen für Ihre ersten Schritte in der Welt des Programmierens. Es wurde eigens für diesen Workshop angelegt. Weiterführende und spielerische Tutorials für Python finden Sie auf der Startseite auf [GitHub](https://github.com/dgromann/ProgrammingForTranslators_ITAT/).\n",
        "\n",
        "Wenn Sie den nachfolgenden Code auf Ihrem eigenen Windows-Computer zuhause ausführen möchten oder weitere Tutorials absolvieren möchten, folgen Sie bitte den Anweisungen unter https://github.com/dgromann/ProgrammingForTranslators auf der Startseite."
      ]
    },
    {
      "cell_type": "markdown",
      "metadata": {
        "id": "naqT4gwM2X92"
      },
      "source": [
        "### Warum programmieren?\n",
        "Durch Programmieren können repetitive Aufgaben automatisiert werden, we etwa Suche nach Kollokationen im Text oder nach Dateien, Konvertierung von Dateiformaten, etc.\n",
        "\n",
        "Auf Basis neuerster Deep Learning Anwendungen sind die Möglichkeiten der Aufgabenstellungen, die automatisch erfüllt werden können, rapide angestiegen.\n"
      ]
    },
    {
      "cell_type": "markdown",
      "metadata": {
        "id": "5kHcoh1Y1ybd"
      },
      "source": [
        "### Warum Python?\n",
        "\n",
        "Es gibt viele verschiedenen Programmiersprachen, z. B. Java, C++, C#, etc. Warum also sollte man also gerade Python lernen?\n",
        "\n",
        "\n",
        "*   *Leicht zu lernen*: eine der einfachsten Programmiersprachen für absolute Anfänger - auch auf diesem Prinzip erstellt\n",
        "*   *Stark nachgefragt*: großer Bedarf an Python-Softwareentwickler:innen\n",
        "*   *Weit verbreitet*: Python wird am häufigsten für maschinelles Lernen, inklusive maschineller Übersetzung, Natural Language Processing (NLP) und künstlicher Intelligenz eingesetzt\n",
        "*   *Große Gemeinschaft*: je mehr Programmierer:innen und aktive Entwickler:innen es gibt, desto mehr Hilfestellungen in Form von Foren gibt es, z. B. [StackOverflow](https://stackoverflow.com/)\n",
        "\n",
        "Daher ist Python eine sehr attraktive Programmiersprache für Sprachexpert:innen.\n"
      ]
    },
    {
      "cell_type": "markdown",
      "source": [
        "### **Speichern Sie dieses Notebook**\n",
        "\n",
        "Die Anleitung und die Notebooks können Sie jederzeit von [GitHub](https://github.com/dgromann/ProgrammingForTranslators_ITAT/) laden. Wenn Sie jeddoch Ihre eigenen Lösungen und Ihren eigenen Code speichern möchten, müssen Sie dieses Notebook speichern. Klicken Sie auf **Datei*** speichern Sie das Notebook auf Google Drive, in GitHub oder laden Sie dieses Notebook herunter."
      ],
      "metadata": {
        "id": "o1WW2bU9nT7f"
      }
    },
    {
      "cell_type": "markdown",
      "metadata": {
        "id": "5ZwBNTy66egw"
      },
      "source": [
        "# Lektion 1: Hallo Welt!\n",
        "\n",
        "In der Welt des Programmierens besteht die lange Tradition als erste Aufgabe in der neuen Sprache \"Hello World!\" auf dem Bildschirm anzeigen zu lassen.\n",
        "\n",
        "Der Befehl `print(\"Hello World!\")` macht genau das wonach er klingt, er gibt den Text innerhalb der Klammern und Anführungszeichen am Bildschirm aus.\n",
        "\n",
        "Die nachstehende graue Zelle ist eine Code-Zelle. Das heißt der darin enthaltene Programmiercode kann vom Computer ausgeführt werden. Code muss nicht nur geschrieben, sondern auch ausgeführt werden. In unserer Workshopumgebung machen Sie dass, indem Sie mit den Mauszeiger auf die graue Zelle bewegen und die Schaltfläche \"&#9658;| Run\" aktivieren.\n",
        "\n",
        "Fragen und praktische Aufgaben werden hier als ❓**Frage**❓ bzw. 👋 ⚒ **Aufgabe** 👋 ⚒ gekennzeichnet. ❓**Fragen**❓ fordern Sie dazu auf Überlegungen anzustellen bevor Sie etwas praktisch testen. 👋 ⚒ **Aufgaben** 👋 ⚒ erfordern das aktive Schreibenv on Code in der grauen Code-Zelle nach der Aufgabenbeschreibung.\n"
      ]
    },
    {
      "cell_type": "markdown",
      "metadata": {
        "id": "A5HtIOpEetDr"
      },
      "source": [
        "👋 ⚒ **Aufgabe** 👋 ⚒ <br>\n",
        "Führen Sie die folgende Code-Zelle aus."
      ]
    },
    {
      "cell_type": "code",
      "metadata": {
        "id": "pZGmc5wD7RUz"
      },
      "source": [
        "print(\"Hello World!\")"
      ],
      "execution_count": null,
      "outputs": []
    },
    {
      "cell_type": "markdown",
      "metadata": {
        "id": "AbTrd68A-8c8"
      },
      "source": [
        "👋 ⚒ **Aufgabe** 👋 ⚒ <br>\n",
        "Führen Sie den nachstehenden Code aus. Sie werden eine Fehlermeldung erhalten:\n",
        "\n",
        "\n",
        "*   Die erste Zeile zeigt die Datei und Zeilennummer in welcher der Fehler aufgetreten ist.\n",
        "*   Die zweite Zeile markiert die Position des Fehlers in der Zeile.\n",
        "*   Die dritte Zeile zeigt an um welche Art von Fehler es sich handelt.\n",
        "\n",
        "\n",
        "Wie kann der angezeigte Fehler behoben werden?"
      ]
    },
    {
      "cell_type": "code",
      "metadata": {
        "id": "icSvQlSA-NUi"
      },
      "source": [
        "print(\"Mein Name ist Dagmar\""
      ],
      "execution_count": null,
      "outputs": []
    },
    {
      "cell_type": "markdown",
      "metadata": {
        "id": "Db2jmdHTKw_b"
      },
      "source": [
        "# Lektion 2: Variablen\n",
        "\n",
        "Variablen sind im Grunde Speicherplätze für Daten. Variablen speichern einen Wert, egal ob Zahl, Text oder Boolsche Werte (wahr oder falsch). Wenn man diesen Wert später wieder verwenden will, verwendet man einfach die Variable.\n",
        "\n",
        "Im Gegensatz zu anderen Programmiersprachen gibt man bei Python die Art der Variable nicht explizit an. Python erkennt die Art der Variable aufgrund des angegebenen Werts. Also anstelle von `int n = 2` für eine ganze Zahl (int = Integer), kann man in Python einfach `n = 2` sagen und dasselbe Ziel erreichen.\n",
        "\n",
        "Es gibt in Python verschiedene Arten von Datentypen:\n",
        "\n",
        "*   Zahlen\n",
        "*   Strings (Zeichenfolge)\n",
        "*   Collections\n",
        "  *   Liste: geordnete und veränderbare Sammlung; Mehrfachnennungen der enthaltenen Elementen möglich, z. B. `[\"Drei\", \"Drei\", \"Zwei\", \"Zwei\"]`\n",
        "  *   Tuple: geordnete und nicht veränderbare Sammlung; Mehrfachnennungen möglich\n",
        "  *   Set: ungeordnet und veränderbare Sammlung; keine Mehrfachnennungen\n",
        "  *   Dictionary: ungeordnet, veränderbare, indizierte Sammlung; keine Mehrfachnennungen und Anordnung nach `key`: `value`, z. B. `Häufigkeit`: `2`\n",
        "\n",
        "Wir konzentrieren uns in diesem Einstiegstutorial auf Zahlen, Strings, Listen und Dictionaries.  \n",
        "\n",
        "\n",
        "\n",
        "\n",
        "\n",
        "\n",
        "\n",
        "\n"
      ]
    },
    {
      "cell_type": "markdown",
      "metadata": {
        "id": "qHJRY3boTFeW"
      },
      "source": [
        "## Lektion 2.1: Zahlen\n",
        "\n",
        "Die folgende Code-Zelle zeigt wie eine Zahl definiert werden kann."
      ]
    },
    {
      "cell_type": "code",
      "source": [
        "Zahl = 1\n",
        "Dezimalzahl = 1.2"
      ],
      "metadata": {
        "id": "xZs3mURTlmIx"
      },
      "execution_count": null,
      "outputs": []
    },
    {
      "cell_type": "markdown",
      "metadata": {
        "id": "sJ1oWjEOZkC_"
      },
      "source": [
        "Zahlen können auch direkt eingegeben werden, ebenso wie Text, sind dann aber nicht wiederverwendbar.  "
      ]
    },
    {
      "cell_type": "code",
      "metadata": {
        "id": "qPQ-ItTkZqYw"
      },
      "source": [
        "# Ich bin ein Kommentar, eine Beschreibung für Menschen, und werde bei der Ausführung des Codes nicht berücksichtigt\n",
        "# Als Variable\n",
        "result = 2 + 2\n",
        "print(result)\n",
        "\n",
        "# Direkte Eingabe\n",
        "print(\"Auch dasselbe Ergebnis: \", 2 + 2)"
      ],
      "execution_count": null,
      "outputs": []
    },
    {
      "cell_type": "markdown",
      "metadata": {
        "id": "k7-SBDKuZjSV"
      },
      "source": [
        "Zahlen können als numerische Variablen gespeichert werden.\n",
        "\n",
        "❓**Frage**❓ <br>\n",
        "Was passiert wenn man die folgende Codezelle ausführt? Warum werden hier keine Anführungszeichen bei dem `print()`-Befehl verwendet?"
      ]
    },
    {
      "cell_type": "code",
      "metadata": {
        "id": "zxYR6zUHTpt2"
      },
      "source": [
        "num1 = 2\n",
        "num2 = 4\n",
        "result_num = num1 + num2\n",
        "print(result_num)"
      ],
      "execution_count": null,
      "outputs": []
    },
    {
      "cell_type": "markdown",
      "metadata": {
        "id": "F1DpOii0URT9"
      },
      "source": [
        "Das vorherige Beispiel zeigt ganze Zahlen, es ist aber auch möglich Zahlen mit  Nachkommastellen (sogenannte \"floats\") darzustellen:"
      ]
    },
    {
      "cell_type": "code",
      "metadata": {
        "id": "al7O7ZpdUaiU"
      },
      "source": [
        "float1 = 2.1\n",
        "float2 = 4.3\n",
        "float_result = float1 + float2\n",
        "print(float_result)"
      ],
      "execution_count": null,
      "outputs": []
    },
    {
      "cell_type": "markdown",
      "metadata": {
        "id": "JyoNe5Zx1L5z"
      },
      "source": [
        "Wenn der Code schon sehr lange ist oder es nicht ganz klar ersichtlich ist was für eine Art von Variable gerade vorliegt, kann man dies mit der Funktion `type()` ganz leicht herausfinden:"
      ]
    },
    {
      "cell_type": "code",
      "metadata": {
        "id": "jbTRkrsE1UNx"
      },
      "source": [
        "print(type(num1))\n",
        "print(type(float1))"
      ],
      "execution_count": null,
      "outputs": []
    },
    {
      "cell_type": "markdown",
      "metadata": {
        "id": "7ixi4_tXUm2n"
      },
      "source": [
        "❓**Frage**❓ <br>\n",
        "Was wird am Bildschirm ausgegeben wenn ich den folgenden Code ausführe?"
      ]
    },
    {
      "cell_type": "code",
      "metadata": {
        "id": "23xH8hKiU6BB"
      },
      "source": [
        "result1 = result + result_num\n",
        "print(result1)"
      ],
      "execution_count": null,
      "outputs": []
    },
    {
      "cell_type": "markdown",
      "metadata": {
        "id": "T4cSEjdcg34a"
      },
      "source": [
        "👋 ⚒ **Aufgabe** 👋 ⚒ <br>\n",
        "Addieren Sie die Variable `result1` mit dem Ergebnis der Float-Operation `float_result`, weisen Sie das Ergebnis einer neuen Variable `result2` zu und geben Sie das Ergebnis auf dem Bildschirm aus. Was für ein Datentyp resultiert daraus?"
      ]
    },
    {
      "cell_type": "code",
      "metadata": {
        "id": "Eu5PfvMYg0zo"
      },
      "source": [
        "# Schreiben Sie hier die Addition.\n",
        "print()"
      ],
      "execution_count": null,
      "outputs": []
    },
    {
      "cell_type": "markdown",
      "metadata": {
        "id": "sKEulcYN0yY4"
      },
      "source": [
        "### Lektion 2.1.1: Arithmetische Operatoren\n",
        "Auf Zahlen können auch viele arithmetische Operationen ausgeführt werden."
      ]
    },
    {
      "cell_type": "markdown",
      "metadata": {
        "id": "NcioGM6AnIBv"
      },
      "source": [
        "👋 ⚒ **Aufgabe** 👋 ⚒ <br>\n",
        "Führen Sie die nachstehende Code-Zelle aus und versuchen Sie herauszufinden was die einzlenen Operationen mit den Zahlen machen. Ändern Sie die Werte der beiden Zahlen und führen Sie die Code-Zelle erneut aus um die Veränderung in den Ergebnissen zu sehen.\n",
        "\n",
        "Was macht der Modulus-Operator? Was der Exponent-Operator?\n"
      ]
    },
    {
      "cell_type": "code",
      "metadata": {
        "id": "a440aXyf-XdN"
      },
      "source": [
        "zahl1 = 6\n",
        "zahl2 = 2\n",
        "\n",
        "print(\"Addition: zahl1 + zahl2 = \", zahl1 + zahl2)\n",
        "print(\"Subtraktion: zahl1 - zahl2 =  \", zahl1 - zahl2)\n",
        "print(\"Multiplikation: zahl1 * zahl2 =  \", zahl1 * zahl2)\n",
        "print(\"Division: zahl1 / zahl2 =  \", zahl1 / zahl2)\n",
        "print(\"Modulus: zahl1 % zahl2 =  \", zahl1 % zahl2)\n",
        "print(\"Exponent: zahl1 ** zahl2 =  \", zahl1 ** zahl2)"
      ],
      "execution_count": null,
      "outputs": []
    },
    {
      "cell_type": "markdown",
      "metadata": {
        "id": "kkQyxzZa3Uqx"
      },
      "source": [
        "### Lektion 2.1.2: Vergleichsoperatoren\n",
        "\n",
        "Wenn man zwei oder mehrere Variablen miteinander vergleichen will, ist die Verwendung vordefinierter Vergleichsoperatoren sehr sinnvoll.\n",
        "\n",
        "\n",
        "\n",
        "*   `==`: übereprüft die Äquivalenz zwischen den Werten von zwei Variablen\n",
        "*   `!=`: überprüft die Nicht-Äquivalenz zwischen den Werten von zwei Variablen\n",
        "*   `>`: überprüft ob der Wert der linken Variable größer ist als der Wert der rechten\n",
        "*   `<`: überprüft ob der Wert der linken Variable kleiner ist als der Wert der rechten\n",
        "*   `>=`: überprüft ob der Wert der linken Variable gößer oder gleich ist dem Wert der rechten\n",
        "*   `<=`: überprüft ob der Wert der linken Variable kleiner oder gleich ist dem Wer der rechten  \n"
      ]
    },
    {
      "cell_type": "code",
      "metadata": {
        "id": "In_wvzy_3Uq5"
      },
      "source": [
        "print(\"zahl1 == zahl2 \", zahl1 == zahl2)\n",
        "print(\"zahl1 != zahl2 \", zahl1 != zahl2)\n",
        "print(\"zahl1 > zahl2 \", zahl1 > zahl2)\n",
        "print(\"zahl1 < zahl2 \", zahl1 < zahl2)\n",
        "print(\"zahl1 >= zahl2 \", zahl1 >= zahl2)\n",
        "print(\"zahl1 <= zahl2 \", zahl1 <= zahl2)"
      ],
      "execution_count": null,
      "outputs": []
    },
    {
      "cell_type": "markdown",
      "metadata": {
        "id": "hFARVUn144lB"
      },
      "source": [
        "Das Ergebnis, dass hier ausgegeben wird stellt Boolsche Werte dar. Boolsche Werte können immer nur den Wert wahr (`True`) oder falsch (`False`) annehmen und sind beim Programmieren sehr wichtig."
      ]
    },
    {
      "cell_type": "markdown",
      "metadata": {
        "id": "Sq104V0K0roj"
      },
      "source": [
        "❓**Frage**❓ <br>\n",
        "Gibt der folgende Code `True` oder `False` aus?"
      ]
    },
    {
      "cell_type": "code",
      "metadata": {
        "id": "QrYFUwq20zoa"
      },
      "source": [
        "z1 = 2\n",
        "z2 = 2\n",
        "print(z1 != z2)"
      ],
      "execution_count": null,
      "outputs": []
    },
    {
      "cell_type": "markdown",
      "metadata": {
        "id": "emcdrU3QVMCj"
      },
      "source": [
        "## Lektion 2.2: Strings\n",
        "\n",
        "In \"Strings\" werden Textdaten in Python gespeichert. Strings können in einfachen oder doppelten Anführungszeichen dargestellt werden. Bei einfachen Anführungszeichen muss ein Apostroph (z. B. don't) mit dem Symbol \"\\\" von einem Anführungszeichen unterschieden werden. Zum Beispiel:"
      ]
    },
    {
      "cell_type": "code",
      "metadata": {
        "id": "Y-R5JojFvCnh"
      },
      "source": [
        "print('Das ist ein String.')\n",
        "print(\"Das ist auch ein String\")\n",
        "print(\"Das ist der Unterschied:\")\n",
        "print('doesn\\'t')\n",
        "print(\"doesn't\")\n",
        "print('\"Ja\" hat er gesagt.')"
      ],
      "execution_count": null,
      "outputs": []
    },
    {
      "cell_type": "markdown",
      "metadata": {
        "id": "6KjnxyB-u7tR"
      },
      "source": [
        "Auch auf Strings kann die Operation der Addition angewandt werden:\n",
        "\n",
        "\n"
      ]
    },
    {
      "cell_type": "code",
      "metadata": {
        "id": "0_jSjrD2YK6q"
      },
      "source": [
        "name1 = \"Dagmar\"\n",
        "name2 = \"Gromann\"\n",
        "result_name = name1 + \" \" + name2 # hier wird ein Leerzeichen hinzugefügt um die Strings zu trennen\n",
        "print(result_name)"
      ],
      "execution_count": null,
      "outputs": []
    },
    {
      "cell_type": "markdown",
      "metadata": {
        "id": "dtSINRbiYe7t"
      },
      "source": [
        "\n",
        "👋 ⚒ **Aufgabe** 👋 ⚒ <br>\n",
        "Erstellen Sie eine neue Variable für Ihren Vornamen und eine neue Variable für Ihren Nachnamen. Schreiben Sie dann eine Variable in der Sie beide addieren und geben Sie diese Variable am Bildschirm aus.  "
      ]
    },
    {
      "cell_type": "code",
      "metadata": {
        "id": "0p63YrilZEWx"
      },
      "source": [
        "# Schreiben Sie hier Ihren Vor- und Nachnamen als Variablen, addieren diese und geben das Resultat aus.\n",
        "print()"
      ],
      "execution_count": null,
      "outputs": []
    },
    {
      "cell_type": "markdown",
      "metadata": {
        "id": "qijyR_rQV2JQ"
      },
      "source": [
        "Strings sind automatisch indiziert, dass heißt jedem Buchstaben wird ein Index zugewiesen, den man direkt ansprechen kann. Der Index beginnt mit 0 für den ersten Buchstaben, 1 für den zweiten, usw. Es können auch Bereich adressiert werden indem ein Indexbereich angegeben werden, z. B. string[1:4]."
      ]
    },
    {
      "cell_type": "code",
      "metadata": {
        "id": "FEH8QRjIVziT"
      },
      "source": [
        "wort = \"Programmieren\"\n",
        "print(\"Der erste Buchstabe des Wortes:\", wort[0])\n",
        "print(\"Der dritte Buchstabe des Wortes:\", wort[3])\n",
        "print(\"Vom ersten zum dritten Buchstaben:\", wort[1:4])"
      ],
      "execution_count": null,
      "outputs": []
    },
    {
      "cell_type": "markdown",
      "metadata": {
        "id": "FIS6PtgrXJYg"
      },
      "source": [
        "Wird in einem Ausdruck mit zwei Indizes der erste ausgelassen, bedeutet es automatisch \"von Anfang an\". Wird der zweite ausgelassen, bedeutet es automatisch bis \"ganz zum Ende\"."
      ]
    },
    {
      "cell_type": "code",
      "metadata": {
        "id": "nIqW-TpsXKA2"
      },
      "source": [
        "print(wort[:3]) # Die ersten drei Buchstaben\n",
        "print(wort[3:]) # Alle außer den ersten drei Buchstaben\n",
        "print(wort[:-2]) # Alles außer der letzten zwei Buchstaben\n",
        "print(wort[-2:]) # Nur die letzten zwei Buchstaben"
      ],
      "execution_count": null,
      "outputs": []
    },
    {
      "cell_type": "markdown",
      "metadata": {
        "id": "6v9XCsmJcTGY"
      },
      "source": [
        "👋 ⚒ **Aufgabe** 👋 ⚒ <br>\n",
        "Geben Sie die letzten vier Buchstaben des Wortes \"wort\" mithilfe der nachstehenden Code-Zelle aus."
      ]
    },
    {
      "cell_type": "code",
      "metadata": {
        "id": "2X0QF689cSRF"
      },
      "source": [
        "print(wort[])"
      ],
      "execution_count": null,
      "outputs": []
    },
    {
      "cell_type": "markdown",
      "metadata": {
        "id": "XEjqjXYx03lV"
      },
      "source": [
        "### Lektion 2.2.1: Operatoren\n",
        "Neben der Addition kann ein String auch multipliziert werden.\n",
        "\n"
      ]
    },
    {
      "cell_type": "markdown",
      "metadata": {
        "id": "1WAGXBZF2ttK"
      },
      "source": [
        "❓**Frage**❓ <br>\n",
        "Was passiert wenn ein String mit einer bestimmten Zahl multipliziert wird? Kann ein String auch mit sich selbst multipliziert werden?"
      ]
    },
    {
      "cell_type": "code",
      "metadata": {
        "id": "8DM9c0ib1maQ"
      },
      "source": [
        "wort = \"Terminologie\"\n",
        "print(wort * 5)"
      ],
      "execution_count": null,
      "outputs": []
    },
    {
      "cell_type": "markdown",
      "metadata": {
        "id": "jc16DlAJws4Y"
      },
      "source": [
        "👋 ⚒ **Aufgabe** 👋 ⚒ <br>\n",
        "Welche dieser Vergleichsoperatoren kann auch sinnvoll auf Text angewandt werden?  Testen Sie Ihre Annahme in der nachstehenden Code-Zelle."
      ]
    },
    {
      "cell_type": "code",
      "metadata": {
        "id": "v9rwuzkTxAFI"
      },
      "source": [
        "text1 = \"Banane\"\n",
        "text2 = \"Apfel\"\n",
        "\n",
        "print(\"text1 == text2 \", text1 == text2)\n",
        "print(\"text1 != text2 \", text1 != text2)\n",
        "print(\"text1 > text2 \", text1 > text2)\n",
        "print(\"text1 < text2 \", text1 < text2)\n",
        "print(\"text1 >= text2 \", text1 >= text2)\n",
        "print(\"text1 <= text2 \", text1 <= text2)"
      ],
      "execution_count": null,
      "outputs": []
    },
    {
      "cell_type": "markdown",
      "metadata": {
        "id": "Y728FrvP_P8l"
      },
      "source": [
        "👋 ⚒ **Aufgabe** 👋 ⚒ <br>\n",
        "Sehen Sie sich den nachstehende Code an und führen Sie in aus. Sie werden eine Fehlermeldung erhalten. Wie kann der Fehler behoben werden? Was ist das Problem?"
      ]
    },
    {
      "cell_type": "code",
      "metadata": {
        "id": "vqfkdASU_O77"
      },
      "source": [
        "x = 1\n",
        "y = 2\n",
        "first = \"first\"\n",
        "print(x + y + 1)\n",
        "print(x + y + first)\n",
        "print(first, x, y)"
      ],
      "execution_count": null,
      "outputs": []
    },
    {
      "cell_type": "markdown",
      "metadata": {
        "id": "KelQgI9X6Nbu"
      },
      "source": [
        "## Lektion 2.3: Listen\n",
        "\n",
        "Im Gegensatz zu Zahlen und Strings, kann eine Liste mehrere Elemente speichern."
      ]
    },
    {
      "cell_type": "code",
      "metadata": {
        "id": "gHKTeqGf6cIz"
      },
      "source": [
        "my_string = \"Programmieren für ÜbersetzerInnen\"\n",
        "my_list = [\"Programmieren für ÜbersetzerInnen\", \"Freitag\", \"Jänner\", \"Merangasse\"]\n",
        "print(my_string)\n",
        "print(my_list)"
      ],
      "execution_count": null,
      "outputs": []
    },
    {
      "cell_type": "markdown",
      "metadata": {
        "id": "eicUl8Db6x97"
      },
      "source": [
        "Listen sind ebenso wie Strings indiziert, d. h. bestimmte Positionen einer Liste können direkt angesprochen werden. Auch wie bei Srtings beginnen wir hier mit 0 zu zählen."
      ]
    },
    {
      "cell_type": "code",
      "source": [
        "# So erhalte ich das vierte Element in der Liste\n",
        "print(my_list[3])"
      ],
      "metadata": {
        "id": "WzLlZ-q4oq3_"
      },
      "execution_count": null,
      "outputs": []
    },
    {
      "cell_type": "markdown",
      "metadata": {
        "id": "av8FobVD7Aty"
      },
      "source": [
        "👋 ⚒ **Aufgabe** 👋 ⚒ <br>\n",
        "Geben Sie das Element \"Freitag\" aus der Liste `my_list` aus indem Sie den Index in Klammern von `0` auf den richtigen Index ändern:"
      ]
    },
    {
      "cell_type": "code",
      "metadata": {
        "id": "sg1VcA7B7MwL"
      },
      "source": [
        "print(my_list[0])"
      ],
      "execution_count": null,
      "outputs": []
    },
    {
      "cell_type": "markdown",
      "metadata": {
        "id": "FbEIWkNz7NzH"
      },
      "source": [
        "👋 ⚒ **Aufgabe** 👋 ⚒ <br>\n",
        "Geben Sie die Liste `my_list` insgesamt drei Mal aus ohne die Variable öfter als einmal in den Code zu schreiben."
      ]
    },
    {
      "cell_type": "code",
      "metadata": {
        "id": "GHgOx7mu7cUt"
      },
      "source": [
        "# Wie kann my_list drei Mal ausgegeben werden ohne die Variable zu wiederholen?\n",
        "print(my_list)"
      ],
      "execution_count": null,
      "outputs": []
    },
    {
      "cell_type": "markdown",
      "metadata": {
        "id": "QEXrJ79d7ohc"
      },
      "source": [
        "Listen können auch verschiedene Datentypen kombinieren:"
      ]
    },
    {
      "cell_type": "code",
      "metadata": {
        "id": "7a7_sM1H7sA3"
      },
      "source": [
        "my_mixed_list = [\"Programmieren für Übersetzer:innen\", \"Freitag\", \"Jänner\", 19, 2024, \"Merangasse \", 70, True]\n",
        "print(my_mixed_list)"
      ],
      "execution_count": null,
      "outputs": []
    },
    {
      "cell_type": "markdown",
      "metadata": {
        "id": "ocpRreTN7-3a"
      },
      "source": [
        "Es ist möglich einer Liste Elemente hinzuzufügen durch Verwendung der Funktion `append()` wobei in Klammern das anzuhängende Element (hier die Zahl 0) angegeben wird.\n",
        "\n",
        "Die Funktion `len()` gibt die Länge - also die Anzahl der Listenelement bzw. die Anzahl der Buchstaben - der Variable, die ihr in Klammern übergeben wird, wieder."
      ]
    },
    {
      "cell_type": "code",
      "metadata": {
        "id": "8Pcal1Ff8E3W"
      },
      "source": [
        "# Die Zahl 0 hinzufügen\n",
        "my_mixed_list.append(0)\n",
        "print(my_mixed_list)\n",
        "\n",
        "# Die Länge der Liste ausgeben\n",
        "print(\"Länge von my_mixed_list: \", len(my_mixed_list))\n",
        "\n",
        "# Funktioniert auch auf strings\n",
        "print(\"Länge von mein String: \", len(my_string))"
      ],
      "execution_count": null,
      "outputs": []
    },
    {
      "cell_type": "markdown",
      "metadata": {
        "id": "ivipNozYsOkw"
      },
      "source": [
        "Weiters können Elemente aus Listen mithilfe der Funktion `remove()` entfernt werden."
      ]
    },
    {
      "cell_type": "code",
      "metadata": {
        "id": "NQfZ8HbG8YWu"
      },
      "source": [
        "# Das Element \"0\" entfernen\n",
        "my_mixed_list.remove(0)\n",
        "print(my_mixed_list)\n",
        "\n",
        "# Die Länge der Liste ausgeben\n",
        "print(\"Länge von my_mixed_list: \", len(my_mixed_list))"
      ],
      "execution_count": null,
      "outputs": []
    },
    {
      "cell_type": "markdown",
      "metadata": {
        "id": "h_cHVGubsqhC"
      },
      "source": [
        "👋 ⚒ **Aufgabe** 👋 ⚒ <br>\n",
        "Fügen Sie der nachstehenden Liste das Element \"Apfel\" hinzu und löschen Sie das Element \"Banane\". Wie viele Elemente hat die Liste (bitte ausgeben lassen und nicht manuell abzählen)?"
      ]
    },
    {
      "cell_type": "code",
      "metadata": {
        "id": "KR6gR-4ptFDB"
      },
      "source": [
        "test_list = [\"Pfirsich\", \"Kiwi\", \"Mango\", \"Ananas\", \"Banane\"]\n",
        "\n",
        "print(\"Länge: \", )"
      ],
      "execution_count": null,
      "outputs": []
    },
    {
      "cell_type": "markdown",
      "metadata": {
        "id": "CWGvR8pJnCBP"
      },
      "source": [
        "## Lektion 2.4: Dictionaries\n",
        "\n",
        "Ein Dictionary (Deutsch: Wörterbuch) ist ein Datentyp der Attribut-Wert-Paare (z. B. Farbe: Rot), im Dictionary Key-Value genannt, speichert.  "
      ]
    },
    {
      "cell_type": "code",
      "metadata": {
        "id": "mrcZBfDznf08"
      },
      "source": [
        "erstes_dict =\t{\n",
        "  \"brand\": \"Ford\",\n",
        "  \"model\": \"Mustang\",\n",
        "  \"year\": 1964\n",
        "}\n",
        "print(erstes_dict)"
      ],
      "execution_count": null,
      "outputs": []
    },
    {
      "cell_type": "markdown",
      "metadata": {
        "id": "C2_rNDdInqeY"
      },
      "source": [
        "Um auf einen Wert zuzugreifen, muss man den \"Key\" verwenden:"
      ]
    },
    {
      "cell_type": "code",
      "metadata": {
        "id": "RQ1eZQ1enssR"
      },
      "source": [
        "print(erstes_dict[\"model\"])"
      ],
      "execution_count": null,
      "outputs": []
    },
    {
      "cell_type": "markdown",
      "metadata": {
        "id": "NSzrO2yAn3fO"
      },
      "source": [
        "Um einen Wert zu ändern braucht man ebenso den \"Key\":  "
      ]
    },
    {
      "cell_type": "code",
      "metadata": {
        "id": "t44w_PIBn8uP"
      },
      "source": [
        "print(\"vorher: \", erstes_dict)\n",
        "erstes_dict[\"year\"] = 2018\n",
        "print(\"nachher: \", erstes_dict)"
      ],
      "execution_count": null,
      "outputs": []
    },
    {
      "cell_type": "markdown",
      "metadata": {
        "id": "IkX3SodEoRoR"
      },
      "source": [
        "Um die Länge eines Dictionaries zu bekommen verwenden wir wieder `len()`:"
      ]
    },
    {
      "cell_type": "code",
      "metadata": {
        "id": "ybmjUq1VoWbj"
      },
      "source": [
        "print(len(erstes_dict))"
      ],
      "execution_count": null,
      "outputs": []
    },
    {
      "cell_type": "markdown",
      "metadata": {
        "id": "pqPzj8Oaoaep"
      },
      "source": [
        "Elemente können mithilfe eines neuen \"Keys\" hinzugefügt werden:"
      ]
    },
    {
      "cell_type": "code",
      "metadata": {
        "id": "c30Chq8kodUI"
      },
      "source": [
        "print(\"vorher: \", erstes_dict)\n",
        "erstes_dict[\"color\"] = \"red\"\n",
        "print(\"nachher: \", erstes_dict)"
      ],
      "execution_count": null,
      "outputs": []
    },
    {
      "cell_type": "markdown",
      "metadata": {
        "id": "cJfNWou1oks7"
      },
      "source": [
        "Elemente werden mithilfe der Funktion `pop()`entfernt.\n",
        "\n",
        "👋 ⚒ **Aufgabe** 👋 ⚒ <br>\n",
        "Lassen Sie den nachstehenden Code zwei Mal laufen. Warum erhalten Sie beim zweiten Mal eine Fehlermeldung?"
      ]
    },
    {
      "cell_type": "code",
      "metadata": {
        "id": "zylAQqkQoq2U"
      },
      "source": [
        "erstes_dict.pop(\"model\")\n",
        "print(erstes_dict)"
      ],
      "execution_count": null,
      "outputs": []
    },
    {
      "cell_type": "markdown",
      "metadata": {
        "id": "unMmfj5jpHDV"
      },
      "source": [
        "👋 ⚒ **Aufgabe** 👋 ⚒ <br>\n",
        "Fügen Sie dem Dictionary `erstes_dict` den `Key` \"model\" mit dem Wert \"Ferrari\" hinzu und entfernen Sie das Element `year`."
      ]
    },
    {
      "cell_type": "code",
      "metadata": {
        "id": "GQbFEHGwpTz-"
      },
      "source": [
        "# Fügen Sie hier Ihren Code ein"
      ],
      "execution_count": null,
      "outputs": []
    }
  ]
}