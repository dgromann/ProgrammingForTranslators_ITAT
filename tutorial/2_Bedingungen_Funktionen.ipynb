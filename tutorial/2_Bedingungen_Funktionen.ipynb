{
  "nbformat": 4,
  "nbformat_minor": 0,
  "metadata": {
    "colab": {
      "name": "2_Bedingungen_Funktionen.ipynb",
      "provenance": [],
      "authorship_tag": "ABX9TyOu5YaNofmQDr/+DdlZusbM",
      "include_colab_link": true
    },
    "kernelspec": {
      "name": "python3",
      "display_name": "Python 3"
    }
  },
  "cells": [
    {
      "cell_type": "markdown",
      "metadata": {
        "id": "view-in-github",
        "colab_type": "text"
      },
      "source": [
        "<a href=\"https://colab.research.google.com/github/dgromann/ProgrammingForTranslators_ITAT/blob/main/tutorial/2_Bedingungen_Funktionen.ipynb\" target=\"_parent\"><img src=\"https://colab.research.google.com/assets/colab-badge.svg\" alt=\"Open In Colab\"/></a>"
      ]
    },
    {
      "cell_type": "markdown",
      "metadata": {
        "id": "BVqdKVMLWgOr"
      },
      "source": [
        "# **Programmieren für Übersetzer:innen - Bedinungen und Funktionen**\n",
        "\n",
        "\n",
        "Dieses Notebook erklärt die ersten einfachen Bedingungen und Schleifen ebenso wie man Funktionen in Python schreiben kann."
      ]
    },
    {
      "cell_type": "markdown",
      "metadata": {
        "id": "88yIyBh9rpf1"
      },
      "source": [
        "# Letkion 1: Bedingungen\n",
        "Die sogenannte `if`-Anweisung (falls) überprüft ob eine Bedingung erfüllt wird. Die Bedingung steht in derselben Zeile nach dem `if`. Alle Zeilen die nach der Zeile mit dem `if` angeführt sind werden nur ausgegeben wenn die `if`-Bedingung erfüllt ist."
      ]
    },
    {
      "cell_type": "code",
      "metadata": {
        "id": "hYOn-MXEXeLy"
      },
      "source": [
        "# Beispiel\n",
        "name = \"Beispiel\"\n",
        "\n",
        "if name == \"Beispiel\":\n",
        "  print(\"Das ist ein Beispiel für eine if-Anweisung.\")\n",
        "  print(\"Nur wenn die Variable name mit dem String übereinstimmt, wird dieser Text ausgegeben.\")\n",
        "\n",
        "print(\"Dieser Text wird immer ausgegeben.\")"
      ],
      "execution_count": null,
      "outputs": []
    },
    {
      "cell_type": "markdown",
      "metadata": {
        "id": "x6ysMeehus87"
      },
      "source": [
        "👋 ⚒ **Aufgabe** 👋 ⚒ <br>\n",
        "Wie muss die nachstehende Variable `alter` geändert werden, damit der `print`-Befehl ausführt wird?"
      ]
    },
    {
      "cell_type": "code",
      "metadata": {
        "id": "eNtuwMJzsXHR"
      },
      "source": [
        "# Auskunft über Ermäßigungen der Eintrittskarten für den Tiergarten Schönnbrunn\n",
        "alter = 5\n",
        "\n",
        "if alter > 15:\n",
        "  print(\"Bitte kaufen Sie eine Eintrittskarte für Erwachsene.\")"
      ],
      "execution_count": null,
      "outputs": []
    },
    {
      "cell_type": "markdown",
      "metadata": {
        "id": "vWcjRGeHvM1e"
      },
      "source": [
        "Wenn mann eine Bedingung hat und auch einen bestimmten Code addressieren möchte wenn diese Bedingung nicht erfüllt ist, kann man `else` verwenden. Also immer wenn die Bedingung der `if`-Anweisung nicht erfüllt ist, wird der Code nach `else` ausgeführt.\n",
        "\n",
        "Bitte beachten Sie: wieder nur der eingerückte Code zählt zur darüberstehenden Zeile."
      ]
    },
    {
      "cell_type": "markdown",
      "metadata": {
        "id": "E0VcFTIcYOrk"
      },
      "source": [
        "👋 ⚒ **Aufgabe** 👋 ⚒ <br>\n",
        "Wie muss die nachstehende Variable `alter` geändert werden, damit der Text der `else`-Anweisung ausgegeben wird?"
      ]
    },
    {
      "cell_type": "code",
      "metadata": {
        "id": "I-yQvRzNvp05"
      },
      "source": [
        "alter = 5\n",
        "\n",
        "if alter <= 15:\n",
        "  print(\"Bitte kaufen Sie eine ermäßigte Eintrittskarte.\")\n",
        "else:\n",
        "  print(\"Bitte kaufen Sie eine Eintrittskarte für Erwachsene.\")\n",
        "\n"
      ],
      "execution_count": null,
      "outputs": []
    },
    {
      "cell_type": "markdown",
      "metadata": {
        "id": "L6RPSUj4zCSE"
      },
      "source": [
        "Wenn man mehrere `if`-Bedingungen anführen möchte, die einander ausschließen, kann man `else` durch mehrere `elif`-Anweisungen ersetzen."
      ]
    },
    {
      "cell_type": "markdown",
      "metadata": {
        "id": "sHDiVL2jwnTx"
      },
      "source": [
        "👋 ⚒ **Aufgabe** 👋 ⚒ <br>\n",
        "Verwendene Sie den Wert der nachstehende Variable `alter` so oft, bis jede der drei `print`-Befehle einmal ausgegeben wurde. Mit anderen Worte, bei jeder Änderung der Variable `alter` sollte ein anderer `print`-Befehl ausgegeben werden. Warum wird immer nur einer der drei `print`-Befehle ausgegeben?"
      ]
    },
    {
      "cell_type": "code",
      "metadata": {
        "id": "jTf5-16pwnT5"
      },
      "source": [
        "# Auskunft über Ermäßigungen der Eintrittskarten für den Tiergarten Schönnbrunn\n",
        "alter = 6\n",
        "\n",
        "if alter > 15:\n",
        "  print(\"Bitte kaufen Sie eine Eintrittskarte für Erwachsene.\")\n",
        "\n",
        "elif alter >= 6 and alter <= 15:\n",
        "  print(\"Sie erhalten eine ermäßigte Eintrittskarte für Kinder und Jugendliche.\")\n",
        "\n",
        "elif alter < 6:\n",
        "  print(\"Eintrittskarten für Kinder unter 6 Jahren sind kostenlos.\")"
      ],
      "execution_count": null,
      "outputs": []
    },
    {
      "cell_type": "markdown",
      "metadata": {
        "id": "kmrrb8CUn27m"
      },
      "source": [
        "Der operator `and` stellt einen logischen Operator dar, der nur dann `True` zurückgibt und dessen Bedinungen nur dann erfüllt sind, wenn beide Bedingungen links und rechts des `and` wahr sind. Weitere logische Operatoren:\n",
        "\n",
        "*   `and`: liefert `true` zurück wenn beide Bedinungen links und rechts des `and` wahr sind  \n",
        "*   `or`: liefert `true` zurück wenn eine der Bedingungen wahr ist\n",
        "*   `not`: liefert das Gegenteil des derzeitigen Statuses zurück\n",
        "\n",
        "Zum Beispiel:\n",
        "\n",
        "\n"
      ]
    },
    {
      "cell_type": "code",
      "metadata": {
        "id": "oMvyfN1xoxyr"
      },
      "source": [
        "var1 = True\n",
        "var2 = False\n",
        "print(var1)\n",
        "print(var1 and var2)\n",
        "print(var1 or var2)\n",
        "print(not(var1))"
      ],
      "execution_count": null,
      "outputs": []
    },
    {
      "cell_type": "markdown",
      "metadata": {
        "id": "w-OYMnyMpIx_"
      },
      "source": [
        "❓**Frage**❓ <br>\n",
        "Was ist die Ausgabe der folgenden beiden `print`-Befehle?"
      ]
    },
    {
      "cell_type": "code",
      "metadata": {
        "id": "Dimkvku5pPLh"
      },
      "source": [
        "print(var1 and var1)\n",
        "print(not(var2))\n",
        "print(not(var2) and var1)"
      ],
      "execution_count": null,
      "outputs": []
    },
    {
      "cell_type": "markdown",
      "metadata": {
        "id": "uNaZk-NQVi16"
      },
      "source": [
        "# Lektion 2: Schleifen\n",
        "\n",
        "Durch eine Schleife kann über eine Sequenz iteriert werden (Liste, Satz, Zeichenkette, etc.). Zum Beispiel:"
      ]
    },
    {
      "cell_type": "code",
      "metadata": {
        "id": "imDjIMHmZk29"
      },
      "source": [
        "# Beispiel String\n",
        "my_string = \"Banane\"\n",
        "for element in my_string:\n",
        "  print(element)\n"
      ],
      "execution_count": null,
      "outputs": []
    },
    {
      "cell_type": "code",
      "metadata": {
        "id": "bTStZESgWer8"
      },
      "source": [
        "# Beispiel Liste\n",
        "my_list = [\"Programmieren für Übersetzer:innen\", \"Freitag\", \"Jänner\", \"Merangasse\"]\n",
        "print(\"Gesamte Liste: \", my_list)\n",
        "print(\"Einzelne Elemente: \")\n",
        "for element in my_list:\n",
        "  print(element)"
      ],
      "execution_count": null,
      "outputs": []
    },
    {
      "cell_type": "markdown",
      "metadata": {
        "id": "4Bw5x0FsZ37r"
      },
      "source": [
        "Schleifen werden häufig mit anderen Anweisungen kombiniert, wie z. B. der `if`-Anweisung. Wenn Sie Elemente einer Liste mit einer `for`-Schleife durchlaufen und die Elemente in der Schleife bearbeiten, hat das keine Auswirkung auf die Elemente in der Liste."
      ]
    },
    {
      "cell_type": "code",
      "metadata": {
        "id": "xJnsHvFHZ-H9"
      },
      "source": [
        "for x in my_list:\n",
        "  if x == \"Freitag\":\n",
        "    x = \"Samstag\"\n",
        "\n",
        "print(my_list)"
      ],
      "execution_count": null,
      "outputs": []
    },
    {
      "cell_type": "markdown",
      "metadata": {
        "id": "8kk6rMfUbX7A"
      },
      "source": [
        "Um in der Liste oben \"Freitag\" auf \"Samstag\" zu ändern, müssen wir zuerst den Index des Eintrags in der Liste finden und diesem Index dann einen neuen Wert zuweisen.\n",
        "\n",
        "❓**Frage**❓ <br>\n",
        "Was passiert wenn Sie den nachstehenden Code zwei Mal ausführen und warum?"
      ]
    },
    {
      "cell_type": "code",
      "metadata": {
        "id": "_gzvCiFWbXK9"
      },
      "source": [
        "print(\"Meine Liste: \", my_list)\n",
        "\n",
        "# Zuerst überprüfen wir ob Freitag in der Liste ist\n",
        "if \"Freitag\" in my_list:\n",
        "  this_index = my_list.index(\"Freitag\")\n",
        "  print(\"Freitag hat den Index: \", this_index)\n",
        "\n",
        "  my_list[this_index] = \"Samstag\"\n",
        "  print(\"Meine Liste danach: \", my_list)\n",
        "\n",
        "else:\n",
        "  print('Es gibt das Wort \"Freitag\" in dieser Liste nicht.')"
      ],
      "execution_count": null,
      "outputs": []
    },
    {
      "cell_type": "markdown",
      "metadata": {
        "id": "5Yy9x6ZLch3-"
      },
      "source": [
        "# Lektion 3: Funktionen\n",
        "\n",
        "Wenn Sie mehrere Zeilen Code haben, die eine bestimmte Aufgabe erfüllen und Sie diese öfter ausführen wollen, dann kann man das mit Funktionen machen. Sie können eine definierte Funktion von jeder Stelle des Codes danach und mehrfach aufrufen. Funktionen folgen dem folgenden Schema:\n",
        "\n",
        "```\n",
        "def funktionsname(Parameterliste):\n",
        "    Anweisung(en)\n",
        "    return Ausgabe\n",
        "```\n",
        "\n",
        "\n",
        "\n",
        "Funktionen werden mithilfe des Ausdrucks `def` definiert und erhalten einen bestimmten Namen (meist beginnend mit einem Kleinbuchstaben). Zum Beispiel:"
      ]
    },
    {
      "cell_type": "code",
      "metadata": {
        "id": "afJoEorhc8Ef"
      },
      "source": [
        "def welcomeMessage():\n",
        "  print('Willkommen zum ersten Workshop \"Programmieren für Übersetzer:innen\" der ein paar Grundbegriffe erklärt und Hilfe zur Selbsthilfe bieten soll!')\n",
        "  return\n",
        "\n",
        "welcomeMessage()\n",
        "print(\"Irgendeine anderen Nachricht\")\n",
        "welcomeMessage()"
      ],
      "execution_count": null,
      "outputs": []
    },
    {
      "cell_type": "markdown",
      "metadata": {
        "id": "r1f8IBBudjuq"
      },
      "source": [
        "In den Klammern kann man der Funktion eine Variable übergeben, die dann bearbeitet und mithilfe der `return` Zeile wieder zurückgegeben werden kann. Zum Beispiel:"
      ]
    },
    {
      "cell_type": "code",
      "metadata": {
        "id": "R19DJ61Wdv05"
      },
      "source": [
        "\"\"\" Gibt die Temperatur in Farenheit zurück \"\"\"\n",
        "def celciusToFahrenheit(T_in_celsius):\n",
        "    farenheit = (T_in_celsius * 9 / 5) + 32\n",
        "    return farenheit\n",
        "\n",
        "print(\"Celcius -11: \", celciusToFahrenheit(-11), \" Farenheit\")\n",
        "print(\"Celcius 25: \", celciusToFahrenheit(25), \" Farenheit\")\n",
        "print(\"Celcius 94: \", celciusToFahrenheit(94), \" Farenheit\")"
      ],
      "execution_count": null,
      "outputs": []
    },
    {
      "cell_type": "markdown",
      "metadata": {
        "id": "aphw686ZfJJF"
      },
      "source": [
        "👋 ⚒ **Aufgabe** 👋 ⚒ <br>\n",
        "Schreiben Sie eine Funktion die zwei Zahlen addiert und das Ergebnis zurück gibt. Schreiben Sie weitere Tests für Ihre Funktion: derzeit wird die Funktion nur einmal aufgerufen; schreiben Sie zwei weitere Aufrufe für die Funktion und überprüfen Sie das Ergebnis."
      ]
    },
    {
      "cell_type": "code",
      "metadata": {
        "id": "GIx6S10agzcH"
      },
      "source": [
        "def addTwoNumbers(num1, num2):\n",
        "  # Ihr Code sollte hier stehen\n",
        "  return\n",
        "\n",
        "# Testfall 1\n",
        "print(\"2 + 2 = \", addTwoNumbers(2,2))\n",
        "# Weitere Testfälle"
      ],
      "execution_count": null,
      "outputs": []
    }
  ]
}